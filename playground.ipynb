{
 "cells": [
  {
   "cell_type": "code",
   "execution_count": 1,
   "metadata": {},
   "outputs": [
    {
     "name": "stderr",
     "output_type": "stream",
     "text": [
      "/home/boris/micromamba/envs/nlp_hw3/lib/python3.11/site-packages/tqdm/auto.py:21: TqdmWarning: IProgress not found. Please update jupyter and ipywidgets. See https://ipywidgets.readthedocs.io/en/stable/user_install.html\n",
      "  from .autonotebook import tqdm as notebook_tqdm\n",
      "Generating train split: 100%|██████████| 1000000/1000000 [00:35<00:00, 28202.61 examples/s]\n"
     ]
    }
   ],
   "source": [
    "from datasets import load_dataset\n",
    "from datasets import load_from_disk\n",
    "from transformers import AutoTokenizer\n",
    "import torch\n",
    "import os\n",
    "import json\n",
    "from pathlib import Path\n",
    "\n",
    "# dataset = load_dataset(\"ashaba1in/small_openwebtext\")\n",
    "# dataset.save_to_disk('data/datasets/small_openwebtext')"
   ]
  },
  {
   "cell_type": "code",
   "execution_count": 13,
   "metadata": {},
   "outputs": [],
   "source": [
    "dataset = load_from_disk('data/datasets/small_openwebtext')\n",
    "tokenizer = AutoTokenizer.from_pretrained('mistralai/Mistral-7B-v0.1')"
   ]
  },
  {
   "cell_type": "code",
   "execution_count": 17,
   "metadata": {},
   "outputs": [],
   "source": [
    "def _tokenize_function(sample):\n",
    "    return tokenizer(sample['text'])"
   ]
  },
  {
   "cell_type": "code",
   "execution_count": 43,
   "metadata": {},
   "outputs": [],
   "source": [
    "subset = dataset['train'].select(range(10000))\n",
    "\n",
    "subset_tok = subset.map(_tokenize_function, batched=True)"
   ]
  },
  {
   "cell_type": "code",
   "execution_count": 44,
   "metadata": {},
   "outputs": [
    {
     "data": {
      "text/plain": [
       "[1, 4194, 28733, 581, 28733]"
      ]
     },
     "execution_count": 44,
     "metadata": {},
     "output_type": "execute_result"
    }
   ],
   "source": [
    "subset_tok['input_ids'][0][:5] # массив из токенов"
   ]
  },
  {
   "cell_type": "code",
   "execution_count": 46,
   "metadata": {},
   "outputs": [],
   "source": [
    "counter = 0\n",
    "absolut_i = 0\n",
    "for tok_text in subset_tok['input_ids']:\n",
    "    i = 0\n",
    "    while (start := i * 256) + 256 <= len(tok_text):\n",
    "        torch.save(tok_text[start: start + 256], f'data/datasets/extrasmall_openwebtext_tok/train/text_{absolut_i}.pt')\n",
    "        i += 1\n",
    "        absolut_i += 1\n",
    "    \n",
    "    assert len(tok_text) - start < 256\n",
    "\n",
    "    torch.save(tok_text[start: ], f'data/datasets/extrasmall_openwebtext_tok/train/text_{absolut_i}.pt')\n",
    "    absolut_i += 1\n"
   ]
  },
  {
   "cell_type": "code",
   "execution_count": 47,
   "metadata": {},
   "outputs": [],
   "source": [
    "index = []\n",
    "part = 'train'\n",
    "data_dir = Path('data/datasets/extrasmall_openwebtext_tok')\n",
    "for text_path in os.listdir(data_dir / part):\n",
    "    index.append(\n",
    "        {\n",
    "            \"text_path\": str(data_dir / part / text_path)\n",
    "        }\n",
    "    )\n",
    "\n",
    "index_path = Path(data_dir / 'train_index.json')\n",
    "\n",
    "with index_path.open(\"w\") as f:\n",
    "    json.dump(index, f, indent=2)"
   ]
  },
  {
   "cell_type": "code",
   "execution_count": 48,
   "metadata": {},
   "outputs": [
    {
     "data": {
      "text/plain": [
       "{'text_path': 'data/datasets/extrasmall_openwebtext_tok/train/text_34325.pt'}"
      ]
     },
     "execution_count": 48,
     "metadata": {},
     "output_type": "execute_result"
    }
   ],
   "source": [
    "index[1]"
   ]
  },
  {
   "cell_type": "code",
   "execution_count": 1,
   "metadata": {},
   "outputs": [
    {
     "ename": "NameError",
     "evalue": "name 'index' is not defined",
     "output_type": "error",
     "traceback": [
      "\u001b[0;31m---------------------------------------------------------------------------\u001b[0m",
      "\u001b[0;31mNameError\u001b[0m                                 Traceback (most recent call last)",
      "Cell \u001b[0;32mIn[1], line 1\u001b[0m\n\u001b[0;32m----> 1\u001b[0m \u001b[38;5;28mlen\u001b[39m(\u001b[43mindex\u001b[49m)\n",
      "\u001b[0;31mNameError\u001b[0m: name 'index' is not defined"
     ]
    }
   ],
   "source": [
    "len(index)"
   ]
  },
  {
   "cell_type": "code",
   "execution_count": null,
   "metadata": {},
   "outputs": [],
   "source": []
  }
 ],
 "metadata": {
  "kernelspec": {
   "display_name": "Python 3",
   "language": "python",
   "name": "python3"
  },
  "language_info": {
   "codemirror_mode": {
    "name": "ipython",
    "version": 3
   },
   "file_extension": ".py",
   "mimetype": "text/x-python",
   "name": "python",
   "nbconvert_exporter": "python",
   "pygments_lexer": "ipython3",
   "version": "3.11.10"
  }
 },
 "nbformat": 4,
 "nbformat_minor": 2
}
