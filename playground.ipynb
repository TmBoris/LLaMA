{
 "cells": [
  {
   "cell_type": "code",
   "execution_count": 1,
   "metadata": {},
   "outputs": [],
   "source": [
    "from datasets import load_dataset\n",
    "from datasets import load_from_disk\n",
    "from transformers import AutoTokenizer\n",
    "import torch\n",
    "import os\n",
    "import json\n",
    "from pathlib import Path\n",
    "\n",
    "# dataset = load_dataset(\"ashaba1in/small_openwebtext\")\n",
    "# dataset.save_to_disk('data/datasets/small_openwebtext')"
   ]
  },
  {
   "cell_type": "code",
   "execution_count": 2,
   "metadata": {},
   "outputs": [],
   "source": [
    "dataset = load_from_disk('data/datasets/small_openwebtext')\n",
    "tokenizer = AutoTokenizer.from_pretrained('mistralai/Mistral-7B-v0.1')"
   ]
  },
  {
   "cell_type": "code",
   "execution_count": 17,
   "metadata": {},
   "outputs": [],
   "source": [
    "def _tokenize_function(sample):\n",
    "    return tokenizer(sample['text'])"
   ]
  },
  {
   "cell_type": "code",
   "execution_count": 43,
   "metadata": {},
   "outputs": [],
   "source": [
    "subset = dataset['train'].select(range(10000))\n",
    "\n",
    "subset_tok = subset.map(_tokenize_function, batched=True)"
   ]
  },
  {
   "cell_type": "code",
   "execution_count": 44,
   "metadata": {},
   "outputs": [
    {
     "data": {
      "text/plain": [
       "[1, 4194, 28733, 581, 28733]"
      ]
     },
     "execution_count": 44,
     "metadata": {},
     "output_type": "execute_result"
    }
   ],
   "source": [
    "subset_tok['input_ids'][0][:5] # массив из токенов"
   ]
  },
  {
   "cell_type": "code",
   "execution_count": 46,
   "metadata": {},
   "outputs": [],
   "source": [
    "counter = 0\n",
    "absolut_i = 0\n",
    "for tok_text in subset_tok['input_ids']:\n",
    "    i = 0\n",
    "    while (start := i * 256) + 256 <= len(tok_text):\n",
    "        torch.save(tok_text[start: start + 256], f'data/datasets/extrasmall_openwebtext_tok/train/text_{absolut_i}.pt')\n",
    "        i += 1\n",
    "        absolut_i += 1\n",
    "    \n",
    "    assert len(tok_text) - start < 256\n",
    "\n",
    "    torch.save(tok_text[start: ], f'data/datasets/extrasmall_openwebtext_tok/train/text_{absolut_i}.pt')\n",
    "    absolut_i += 1\n"
   ]
  },
  {
   "cell_type": "code",
   "execution_count": 47,
   "metadata": {},
   "outputs": [],
   "source": [
    "index = []\n",
    "part = 'train'\n",
    "data_dir = Path('data/datasets/extrasmall_openwebtext_tok')\n",
    "for text_path in os.listdir(data_dir / part):\n",
    "    index.append(\n",
    "        {\n",
    "            \"text_path\": str(data_dir / part / text_path)\n",
    "        }\n",
    "    )\n",
    "\n",
    "index_path = Path(data_dir / 'train_index.json')\n",
    "\n",
    "with index_path.open(\"w\") as f:\n",
    "    json.dump(index, f, indent=2)"
   ]
  },
  {
   "cell_type": "code",
   "execution_count": 48,
   "metadata": {},
   "outputs": [
    {
     "data": {
      "text/plain": [
       "{'text_path': 'data/datasets/extrasmall_openwebtext_tok/train/text_34325.pt'}"
      ]
     },
     "execution_count": 48,
     "metadata": {},
     "output_type": "execute_result"
    }
   ],
   "source": [
    "index[1]"
   ]
  },
  {
   "cell_type": "code",
   "execution_count": 3,
   "metadata": {},
   "outputs": [
    {
     "data": {
      "text/plain": [
       "LlamaTokenizerFast(name_or_path='mistralai/Mistral-7B-v0.1', vocab_size=32000, model_max_length=1000000000000000019884624838656, is_fast=True, padding_side='left', truncation_side='right', special_tokens={'bos_token': '<s>', 'eos_token': '</s>', 'unk_token': '<unk>'}, clean_up_tokenization_spaces=False),  added_tokens_decoder={\n",
       "\t0: AddedToken(\"<unk>\", rstrip=False, lstrip=False, single_word=False, normalized=False, special=True),\n",
       "\t1: AddedToken(\"<s>\", rstrip=False, lstrip=False, single_word=False, normalized=False, special=True),\n",
       "\t2: AddedToken(\"</s>\", rstrip=False, lstrip=False, single_word=False, normalized=False, special=True),\n",
       "}"
      ]
     },
     "execution_count": 3,
     "metadata": {},
     "output_type": "execute_result"
    }
   ],
   "source": [
    "tokenizer"
   ]
  },
  {
   "cell_type": "code",
   "execution_count": 12,
   "metadata": {},
   "outputs": [
    {
     "data": {
      "text/plain": [
       "'<s>'"
      ]
     },
     "execution_count": 12,
     "metadata": {},
     "output_type": "execute_result"
    }
   ],
   "source": [
    "tokenizer.bos_token"
   ]
  },
  {
   "cell_type": "code",
   "execution_count": 17,
   "metadata": {},
   "outputs": [
    {
     "data": {
      "text/plain": [
       "torch.Size([2, 8])"
      ]
     },
     "execution_count": 17,
     "metadata": {},
     "output_type": "execute_result"
    }
   ],
   "source": [
    "from torch.nn.utils.rnn import pad_sequence\n",
    "\n",
    "\n",
    "a = torch.tensor([1, 2, 3, 4])\n",
    "b = torch.tensor([1, 2, 3, 4, 5, 6, 7, 8])\n",
    "\n",
    "pad_sequence([a, b], batch_first=True).shape"
   ]
  },
  {
   "cell_type": "code",
   "execution_count": 18,
   "metadata": {},
   "outputs": [
    {
     "data": {
      "text/plain": [
       "32000"
      ]
     },
     "execution_count": 18,
     "metadata": {},
     "output_type": "execute_result"
    }
   ],
   "source": [
    "len(tokenizer)"
   ]
  },
  {
   "cell_type": "code",
   "execution_count": 20,
   "metadata": {},
   "outputs": [
    {
     "data": {
      "text/plain": [
       "torch.Size([1, 257, 32000])"
      ]
     },
     "execution_count": 20,
     "metadata": {},
     "output_type": "execute_result"
    }
   ],
   "source": [
    "torch.nn.functional.one_hot(torch.randint(1, 10, (1, 257)), num_classes=32000).shape"
   ]
  },
  {
   "cell_type": "code",
   "execution_count": 21,
   "metadata": {},
   "outputs": [
    {
     "data": {
      "text/plain": [
       "[1,\n",
       " 4194,\n",
       " 28733,\n",
       " 581,\n",
       " 28733,\n",
       " 3393,\n",
       " 1261,\n",
       " 28725,\n",
       " 382,\n",
       " 1022,\n",
       " 28710,\n",
       " 325,\n",
       " 28743,\n",
       " 11348,\n",
       " 28731,\n",
       " 1939,\n",
       " 8599,\n",
       " 364,\n",
       " 621,\n",
       " 13980,\n",
       " 28725,\n",
       " 1425,\n",
       " 372,\n",
       " 288,\n",
       " 297,\n",
       " 3358,\n",
       " 304,\n",
       " 26517,\n",
       " 2917,\n",
       " 438,\n",
       " 1411,\n",
       " 28725,\n",
       " 6758,\n",
       " 13500,\n",
       " 304,\n",
       " 26579,\n",
       " 2338,\n",
       " 1753,\n",
       " 477,\n",
       " 264,\n",
       " 1834,\n",
       " 6556,\n",
       " 8085,\n",
       " 2125,\n",
       " 1024,\n",
       " 264,\n",
       " 12172,\n",
       " 753,\n",
       " 5714,\n",
       " 1918,\n",
       " 25469,\n",
       " 25473,\n",
       " 272,\n",
       " 2698,\n",
       " 28725,\n",
       " 3677,\n",
       " 378,\n",
       " 403,\n",
       " 9059,\n",
       " 684,\n",
       " 4908,\n",
       " 28723,\n",
       " 13,\n",
       " 13,\n",
       " 1014,\n",
       " 5161,\n",
       " 1749,\n",
       " 26656,\n",
       " 11762,\n",
       " 12195,\n",
       " 3198,\n",
       " 27092,\n",
       " 308,\n",
       " 3652,\n",
       " 28768,\n",
       " 339,\n",
       " 2480,\n",
       " 447,\n",
       " 28708,\n",
       " 390,\n",
       " 272,\n",
       " 865,\n",
       " 6676,\n",
       " 438,\n",
       " 272,\n",
       " 6556,\n",
       " 298,\n",
       " 625,\n",
       " 272,\n",
       " 6883,\n",
       " 1059,\n",
       " 272,\n",
       " 2125,\n",
       " 28723,\n",
       " 13,\n",
       " 13,\n",
       " 28743,\n",
       " 11348,\n",
       " 12735,\n",
       " 5745,\n",
       " 28725,\n",
       " 2818,\n",
       " 356,\n",
       " 17256,\n",
       " 395,\n",
       " 741,\n",
       " 302,\n",
       " 272,\n",
       " 13500,\n",
       " 28725,\n",
       " 369,\n",
       " 272,\n",
       " 2969,\n",
       " 16419,\n",
       " 8346,\n",
       " 272,\n",
       " 12172,\n",
       " 753,\n",
       " 4205,\n",
       " 330,\n",
       " 313,\n",
       " 304,\n",
       " 10731,\n",
       " 6867,\n",
       " 298,\n",
       " 25469,\n",
       " 11931,\n",
       " 28723,\n",
       " 2993,\n",
       " 28725,\n",
       " 12172,\n",
       " 753,\n",
       " 11762,\n",
       " 23184,\n",
       " 10049,\n",
       " 2404,\n",
       " 930,\n",
       " 420,\n",
       " 1230,\n",
       " 28713,\n",
       " 28725,\n",
       " 264,\n",
       " 6676,\n",
       " 693,\n",
       " 403,\n",
       " 438,\n",
       " 272,\n",
       " 6556,\n",
       " 395,\n",
       " 28705,\n",
       " 28784,\n",
       " 28734,\n",
       " 12172,\n",
       " 753,\n",
       " 5714,\n",
       " 15817,\n",
       " 28725,\n",
       " 773,\n",
       " 378,\n",
       " 403,\n",
       " 516,\n",
       " 5161,\n",
       " 298,\n",
       " 3300,\n",
       " 272,\n",
       " 1918,\n",
       " 575,\n",
       " 354,\n",
       " 272,\n",
       " 2125,\n",
       " 28723,\n",
       " 420,\n",
       " 1230,\n",
       " 28713,\n",
       " 773,\n",
       " 400,\n",
       " 11939,\n",
       " 500,\n",
       " 28723,\n",
       " 28759,\n",
       " 28723,\n",
       " 4908,\n",
       " 15817,\n",
       " 298,\n",
       " 5084,\n",
       " 272,\n",
       " 6556,\n",
       " 22128,\n",
       " 28725,\n",
       " 562,\n",
       " 403,\n",
       " 2240,\n",
       " 369,\n",
       " 6405,\n",
       " 16409,\n",
       " 404,\n",
       " 682,\n",
       " 865,\n",
       " 347,\n",
       " 2358,\n",
       " 298,\n",
       " 25469,\n",
       " 11931,\n",
       " 272,\n",
       " 1918,\n",
       " 28723,\n",
       " 13,\n",
       " 13,\n",
       " 2428,\n",
       " 773,\n",
       " 378,\n",
       " 403,\n",
       " 264,\n",
       " 345,\n",
       " 28707,\n",
       " 900,\n",
       " 5161,\n",
       " 28739,\n",
       " 562,\n",
       " 369,\n",
       " 400,\n",
       " 9008,\n",
       " 272,\n",
       " 500,\n",
       " 28723,\n",
       " 28759,\n",
       " 28723,\n",
       " 2405,\n",
       " 298,\n",
       " 25469,\n",
       " 11931,\n",
       " 1024,\n",
       " 264,\n",
       " 10435,\n",
       " 5714,\n",
       " 1918,\n",
       " 28725,\n",
       " 835,\n",
       " 438,\n",
       " 272,\n",
       " 6556,\n",
       " 395,\n",
       " 10435,\n",
       " 4908,\n",
       " 9164,\n",
       " 28725,\n",
       " 1749,\n",
       " 272,\n",
       " 3455,\n",
       " 8085,\n",
       " 8635,\n",
       " 28723,\n",
       " 415,\n",
       " 12172,\n",
       " 753,\n",
       " 1918]"
      ]
     },
     "execution_count": 21,
     "metadata": {},
     "output_type": "execute_result"
    }
   ],
   "source": [
    "torch.load('/home/boris/Documents/ВШЭ 4 курс/nlp/hw3-llama/data/datasets/extrasmall_openwebtext_tok/train/text_0.pt', weights_only=True)"
   ]
  },
  {
   "cell_type": "code",
   "execution_count": null,
   "metadata": {},
   "outputs": [],
   "source": []
  }
 ],
 "metadata": {
  "kernelspec": {
   "display_name": "Python 3",
   "language": "python",
   "name": "python3"
  },
  "language_info": {
   "codemirror_mode": {
    "name": "ipython",
    "version": 3
   },
   "file_extension": ".py",
   "mimetype": "text/x-python",
   "name": "python",
   "nbconvert_exporter": "python",
   "pygments_lexer": "ipython3",
   "version": "3.11.10"
  }
 },
 "nbformat": 4,
 "nbformat_minor": 2
}
